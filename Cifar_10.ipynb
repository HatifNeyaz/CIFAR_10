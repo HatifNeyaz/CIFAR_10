{
 "cells": [
  {
   "cell_type": "code",
   "execution_count": 8,
   "id": "73666bce",
   "metadata": {},
   "outputs": [],
   "source": [
    "import tensorflow as tf\n",
    "from tensorflow.keras.layers import Conv2D, MaxPooling2D, Flatten, Dense\n",
    "from tensorflow.keras.datasets import cifar10\n",
    "from tensorflow.keras.models import Sequential\n",
    "from tensorflow.keras.utils import to_categorical\n",
    "import matplotlib.pyplot as plt"
   ]
  },
  {
   "cell_type": "markdown",
   "id": "a68d246e",
   "metadata": {},
   "source": [
    "# CIFAR-10 DATASET SPLIT"
   ]
  },
  {
   "cell_type": "code",
   "execution_count": 9,
   "id": "4588c319",
   "metadata": {},
   "outputs": [],
   "source": [
    "(xtrain, ytrain) , (xtest, ytest) = cifar10.load_data()"
   ]
  },
  {
   "cell_type": "markdown",
   "id": "8c29e9c5",
   "metadata": {},
   "source": [
    "# Visualizing the data"
   ]
  },
  {
   "cell_type": "code",
   "execution_count": 30,
   "id": "3c28f3c5",
   "metadata": {},
   "outputs": [
    {
     "data": {
      "image/png": "[encoded data removed]",
      "text/plain": [
       "<Figure size 432x288 with 1 Axes>"
      ]
     },
     "metadata": {
      "needs_background": "light"
     },
     "output_type": "display_data"
    }
   ],
   "source": [
    "plt.imshow(xtest[4])\n",
    "plt.axis('off')\n",
    "plt.show()"
   ]
  },
  {
   "cell_type": "markdown",
   "id": "cbd31f87",
   "metadata": {},
   "source": [
    "# Normalizing the data"
   ]
  },
  {
   "cell_type": "code",
   "execution_count": 10,
   "id": "6e04fdf8",
   "metadata": {},
   "outputs": [],
   "source": [
    "xtrain = xtrain/255\n",
    "xtest = xtest/255\n",
    "ytrain = to_categorical(ytrain, num_classes =10)\n",
    "ytest = to_categorical(ytest, num_classes =10)"
   ]
  },
  {
   "cell_type": "markdown",
   "id": "5b0c1976",
   "metadata": {},
   "source": [
    "# Building CNN Model"
   ]
  },
  {
   "cell_type": "code",
   "execution_count": 19,
   "id": "17d297c8",
   "metadata": {},
   "outputs": [],
   "source": [
    "model = Sequential()\n",
    "model.add(Conv2D(32, (3,3), activation = 'relu', input_shape =(32,32,3)))\n",
    "model.add(MaxPooling2D((2,2)))\n",
    "model.add(Conv2D(64, (3,3), activation ='relu'))\n",
    "model.add(MaxPooling2D((2,2)))\n",
    "model.add(Conv2D(64,(3,3), activation ='relu'))\n",
    "model.add(Flatten())\n",
    "model.add(Dense(64, activation = 'relu'))\n",
    "model.add(Dense(10, activation = 'softmax'))"
   ]
  },
  {
   "cell_type": "markdown",
   "id": "93eb5335",
   "metadata": {},
   "source": [
    "# Training model"
   ]
  },
  {
   "cell_type": "code",
   "execution_count": 20,
   "id": "507dbfad",
   "metadata": {},
   "outputs": [
    {
     "name": "stdout",
     "output_type": "stream",
     "text": [
      "Epoch 1/10\n",
      "1563/1563 [==============================] - 56s 35ms/step - loss: 1.5182 - accuracy: 0.4472 - val_loss: 1.2462 - val_accuracy: 0.5591\n",
      "Epoch 2/10\n",
      "1563/1563 [==============================] - 52s 33ms/step - loss: 1.1433 - accuracy: 0.5963 - val_loss: 1.0410 - val_accuracy: 0.6352\n",
      "Epoch 3/10\n",
      "1563/1563 [==============================] - 53s 34ms/step - loss: 0.9932 - accuracy: 0.6501 - val_loss: 1.0016 - val_accuracy: 0.6461\n",
      "Epoch 4/10\n",
      "1563/1563 [==============================] - 55s 36ms/step - loss: 0.9018 - accuracy: 0.6825 - val_loss: 0.9132 - val_accuracy: 0.6807\n",
      "Epoch 5/10\n",
      "1563/1563 [==============================] - 72s 46ms/step - loss: 0.8248 - accuracy: 0.7100 - val_loss: 0.9331 - val_accuracy: 0.6782\n",
      "Epoch 6/10\n",
      "1563/1563 [==============================] - 70s 45ms/step - loss: 0.7650 - accuracy: 0.7323 - val_loss: 0.8565 - val_accuracy: 0.7042\n",
      "Epoch 7/10\n",
      "1563/1563 [==============================] - 71s 45ms/step - loss: 0.7247 - accuracy: 0.7440 - val_loss: 0.8550 - val_accuracy: 0.7035\n",
      "Epoch 8/10\n",
      "1563/1563 [==============================] - 72s 46ms/step - loss: 0.6790 - accuracy: 0.7588 - val_loss: 0.8742 - val_accuracy: 0.7066\n",
      "Epoch 9/10\n",
      "1563/1563 [==============================] - 70s 45ms/step - loss: 0.6451 - accuracy: 0.7730 - val_loss: 0.8551 - val_accuracy: 0.7129\n",
      "Epoch 10/10\n",
      "1563/1563 [==============================] - 71s 45ms/step - loss: 0.6099 - accuracy: 0.7826 - val_loss: 0.8417 - val_accuracy: 0.7212\n"
     ]
    }
   ],
   "source": [
    "model.compile(optimizer ='adam', loss=\"categorical_crossentropy\",\n",
    "             metrics=[\"accuracy\"])\n",
    "history = model.fit(xtrain, ytrain, epochs=10, validation_data= (xtest, ytest))"
   ]
  },
  {
   "cell_type": "markdown",
   "id": "8da986f4",
   "metadata": {},
   "source": [
    "# Evaluation"
   ]
  },
  {
   "cell_type": "code",
   "execution_count": 21,
   "id": "6f613b6d",
   "metadata": {},
   "outputs": [
    {
     "name": "stdout",
     "output_type": "stream",
     "text": [
      "313/313 [==============================] - 4s 12ms/step - loss: 0.8417 - accuracy: 0.7212\n",
      "0.8417086005210876\n",
      "0.7211999893188477\n"
     ]
    }
   ],
   "source": [
    "testloss, testacc = model.evaluate(xtest, ytest)\n",
    "print(testloss)\n",
    "print(testacc)"
   ]
  },
  {
   "cell_type": "code",
   "execution_count": 22,
   "id": "9725da95",
   "metadata": {},
   "outputs": [
    {
     "data": {
      "image/png": "[encoded data removed]",
      "text/plain": [
       "<Figure size 432x288 with 1 Axes>"
      ]
     },
     "metadata": {
      "needs_background": "light"
     },
     "output_type": "display_data"
    }
   ],
   "source": [
    "plt.plot(history.history['accuracy'], label = \"Training Accuracy\")\n",
    "plt.plot(history.history['val_accuracy'], label = \"Validation Accuracy\")\n",
    "plt.xlabel('Epoch')\n",
    "plt.ylabel('Accuracy')\n",
    "plt.legend()\n",
    "plt.show()"
   ]
  },
  {
   "cell_type": "code",
   "execution_count": null,
   "id": "4bd17a22",
   "metadata": {},
   "outputs": [],
   "source": []
  },
  {
   "cell_type": "code",
   "execution_count": null,
   "id": "d8941a29",
   "metadata": {},
   "outputs": [],
   "source": []
  }
 ],
 "metadata": {
  "kernelspec": {
   "display_name": "Python 3",
   "language": "python",
   "name": "python3"
  },
  "language_info": {
   "codemirror_mode": {
    "name": "ipython",
    "version": 3
   },
   "file_extension": ".py",
   "mimetype": "text/x-python",
   "name": "python",
   "nbconvert_exporter": "python",
   "pygments_lexer": "ipython3",
   "version": "3.8.8"
  }
 },
 "nbformat": 4,
 "nbformat_minor": 5
}
